{
 "cells": [
  {
   "cell_type": "markdown",
   "metadata": {},
   "source": [
    "## Imports"
   ]
  },
  {
   "cell_type": "code",
   "execution_count": 1,
   "metadata": {},
   "outputs": [],
   "source": [
    "import numpy as np\n",
    "import pandas as pd\n",
    "import matplotlib.pyplot as plt\n",
    "\n",
    "from rdkit import Chem\n",
    "from rdkit.Chem import AllChem\n",
    "import rdkit.Chem.Lipinski as l\n",
    "import rdkit.Chem.Fragments as f\n",
    "from rdkit.Chem import Descriptors\n",
    "import rdkit.Chem.rdMolDescriptors as d\n",
    "\n",
    "from sklearn import metrics\n",
    "from sklearn.naive_bayes import BernoulliNB\n",
    "from sklearn.naive_bayes import GaussianNB\n",
    "from sklearn.naive_bayes import MultinomialNB\n",
    "from sklearn.tree import DecisionTreeClassifier\n",
    "from sklearn.neural_network import MLPClassifier\n",
    "from sklearn.ensemble import RandomForestClassifier\n",
    "from sklearn.ensemble import ExtraTreesClassifier\n",
    "from sklearn.model_selection import GridSearchCV\n",
    "from sklearn.model_selection import cross_val_score\n",
    "from sklearn.model_selection import StratifiedKFold\n",
    "from sklearn.model_selection import train_test_split\n",
    "from sklearn.preprocessing import StandardScaler\n",
    "from sklearn.preprocessing import MinMaxScaler\n",
    "from sklearn.preprocessing import KBinsDiscretizer"
   ]
  },
  {
   "cell_type": "markdown",
   "metadata": {},
   "source": [
    "## Extract features from SMILES"
   ]
  },
  {
   "cell_type": "code",
   "execution_count": 2,
   "metadata": {},
   "outputs": [],
   "source": [
    "def binaryToInt(list):\n",
    "  return int(\"\".join(str(i) for i in list),2)\n",
    "\n",
    "def aromaticAtoms(m):\n",
    "  aromatic_atoms = [m.GetAtomWithIdx(i).GetIsAromatic() for i in range(m.GetNumAtoms())]\n",
    "  return np.sum([1 if i == True else 0 for i in aromatic_atoms])\n",
    "\n",
    "# Append all feature values to a list\n",
    "def getFeatureValsForM(m):\n",
    "  features = []\n",
    "  features.append(m.GetNumAtoms())\n",
    "  features.append(d.CalcExactMolWt(m))\n",
    "  features.append(f.fr_Al_COO(m))\n",
    "  features.append(l.HeavyAtomCount(m))\n",
    "  features.append(Descriptors.MolLogP(m))\n",
    "  features.append(Descriptors.MolWt(m))\n",
    "  features.append(Descriptors.NumRotatableBonds(m))\n",
    "  features.append(aromaticAtoms(m))\n",
    "  features.append(aromaticAtoms(m)/Descriptors.HeavyAtomCount(m))\n",
    "  fp = AllChem.GetMorganFingerprintAsBitVect(m,2,nBits=124)\n",
    "  features.append(binaryToInt(fp))\n",
    "  return features\n",
    "\n",
    "# Extract features and add it to DF\n",
    "def extractFeatures(raw_data):\n",
    "  data = []\n",
    "  for smile in raw_data['SMILES']:\n",
    "    m = Chem.MolFromSmiles(smile)\n",
    "    feature_vals = getFeatureValsForM(m)\n",
    "    columns = ['x' + str(i + 1) for i in range(len(feature_vals))]\n",
    "    data.append(dict(zip(columns, feature_vals)))\n",
    "  return pd.DataFrame(data)\n",
    "\n",
    "def plotROCAUC(model, X, y):\n",
    "  X_train, X_test, y_train, y_test = train_test_split(X, y, random_state=42)\n",
    "  model.fit(X_train, y_train)\n",
    "  probs = model.predict_proba(X_test)\n",
    "  preds = probs[:,1]\n",
    "  fpr, tpr, threshold = metrics.roc_curve(y_test, preds)\n",
    "  roc_auc = metrics.auc(fpr, tpr)\n",
    "\n",
    "  plt.title('Receiver Operating Characteristic')\n",
    "  plt.plot(fpr, tpr, 'b', label = 'AUC = %0.2f' % roc_auc)\n",
    "  plt.legend(loc = 'lower right')\n",
    "  plt.plot([0, 1], [0, 1],'r--')\n",
    "  plt.xlim([0, 1])\n",
    "  plt.ylim([0, 1])\n",
    "  plt.ylabel('True Positive Rate')\n",
    "  plt.xlabel('False Positive Rate')\n",
    "  plt.show()\n",
    "  print('AUC score on train/test split: ' + str(roc_auc))\n",
    "\n",
    "def testModel(model, X, y):\n",
    "  strat_k_fold = StratifiedKFold(n_splits=10, shuffle=True, random_state=42)\n",
    "  score = cross_val_score(model, X, y, cv=strat_k_fold, scoring='roc_auc')\n",
    "  print(str(score) + ' Average AUC: ' + str(round(np.mean(score), 4)) + ', STD: ' + str(round(np.std(score), 4)))\n",
    "  plotROCAUC(model, X, y)\n",
    "  \n",
    "def tuneModel(model, params_grid, X, y):\n",
    "  print('Vanilla model')\n",
    "  testModel(model, X, y)\n",
    "\n",
    "  strat_k_fold = StratifiedKFold(n_splits=10, shuffle=True, random_state=42)\n",
    "  grid_search = GridSearchCV(model, param_grid=params_grid, cv=strat_k_fold, scoring='roc_auc')\n",
    "  grid_search.fit(X, y)\n",
    "  best_params = grid_search.best_params_\n",
    "  model.set_params(**best_params)\n",
    "  \n",
    "  print('Tuned model with params: ' + str(best_params))\n",
    "  testModel(model, X, y)\n"
   ]
  },
  {
   "cell_type": "markdown",
   "metadata": {},
   "source": [
    "## Read the splitted training data (new_training_smiles.csv)"
   ]
  },
  {
   "cell_type": "code",
   "execution_count": 3,
   "metadata": {},
   "outputs": [
    {
     "data": {
      "text/html": [
       "<div>\n",
       "<style scoped>\n",
       "    .dataframe tbody tr th:only-of-type {\n",
       "        vertical-align: middle;\n",
       "    }\n",
       "\n",
       "    .dataframe tbody tr th {\n",
       "        vertical-align: top;\n",
       "    }\n",
       "\n",
       "    .dataframe thead th {\n",
       "        text-align: right;\n",
       "    }\n",
       "</style>\n",
       "<table border=\"1\" class=\"dataframe\">\n",
       "  <thead>\n",
       "    <tr style=\"text-align: right;\">\n",
       "      <th></th>\n",
       "      <th>SMILES</th>\n",
       "      <th>ACTIVE</th>\n",
       "    </tr>\n",
       "  </thead>\n",
       "  <tbody>\n",
       "    <tr>\n",
       "      <th>0</th>\n",
       "      <td>C=C(C)c1cccc(C(C)(C)NC(=O)Nc2cc(C)ccc2OC)c1</td>\n",
       "      <td>0.0</td>\n",
       "    </tr>\n",
       "    <tr>\n",
       "      <th>1</th>\n",
       "      <td>CCCN(CCC)C(=O)CC(c1ccccc1)c1ccc(C)cc1O</td>\n",
       "      <td>0.0</td>\n",
       "    </tr>\n",
       "    <tr>\n",
       "      <th>2</th>\n",
       "      <td>O=C(CC1NCCNC1=O)Nc1ccccc1</td>\n",
       "      <td>0.0</td>\n",
       "    </tr>\n",
       "    <tr>\n",
       "      <th>3</th>\n",
       "      <td>COc1ccccc1-n1cnc2cc(NC(=O)c3ccco3)ccc21</td>\n",
       "      <td>0.0</td>\n",
       "    </tr>\n",
       "    <tr>\n",
       "      <th>4</th>\n",
       "      <td>COc1c(CO)cc(CO)cc(CO)c1=O</td>\n",
       "      <td>0.0</td>\n",
       "    </tr>\n",
       "    <tr>\n",
       "      <th>...</th>\n",
       "      <td>...</td>\n",
       "      <td>...</td>\n",
       "    </tr>\n",
       "    <tr>\n",
       "      <th>134417</th>\n",
       "      <td>C/C(CC(=O)N(C(C)C)C(C)C)=N\\NC(=O)COc1ccc(Br)cc1Br</td>\n",
       "      <td>0.0</td>\n",
       "    </tr>\n",
       "    <tr>\n",
       "      <th>134418</th>\n",
       "      <td>COc1cc(C(=O)Oc2cccc(C)c2)cc(OC)c1OC</td>\n",
       "      <td>0.0</td>\n",
       "    </tr>\n",
       "    <tr>\n",
       "      <th>134419</th>\n",
       "      <td>CC(=O)N(c1ccc2oc(=O)sc2c1)S(=O)(=O)c1ccccc1</td>\n",
       "      <td>0.0</td>\n",
       "    </tr>\n",
       "    <tr>\n",
       "      <th>134420</th>\n",
       "      <td>CC(=O)Nc1cc2c(cc1C(=O)C(C)C)OCCO2</td>\n",
       "      <td>0.0</td>\n",
       "    </tr>\n",
       "    <tr>\n",
       "      <th>134421</th>\n",
       "      <td>Cc1cc(Nc2ccc(N3CCC(C)CC3)cc2)n2ncnc2n1</td>\n",
       "      <td>0.0</td>\n",
       "    </tr>\n",
       "  </tbody>\n",
       "</table>\n",
       "<p>134422 rows × 2 columns</p>\n",
       "</div>"
      ],
      "text/plain": [
       "                                                   SMILES  ACTIVE\n",
       "0             C=C(C)c1cccc(C(C)(C)NC(=O)Nc2cc(C)ccc2OC)c1     0.0\n",
       "1                  CCCN(CCC)C(=O)CC(c1ccccc1)c1ccc(C)cc1O     0.0\n",
       "2                               O=C(CC1NCCNC1=O)Nc1ccccc1     0.0\n",
       "3                 COc1ccccc1-n1cnc2cc(NC(=O)c3ccco3)ccc21     0.0\n",
       "4                               COc1c(CO)cc(CO)cc(CO)c1=O     0.0\n",
       "...                                                   ...     ...\n",
       "134417  C/C(CC(=O)N(C(C)C)C(C)C)=N\\NC(=O)COc1ccc(Br)cc1Br     0.0\n",
       "134418                COc1cc(C(=O)Oc2cccc(C)c2)cc(OC)c1OC     0.0\n",
       "134419        CC(=O)N(c1ccc2oc(=O)sc2c1)S(=O)(=O)c1ccccc1     0.0\n",
       "134420                  CC(=O)Nc1cc2c(cc1C(=O)C(C)C)OCCO2     0.0\n",
       "134421             Cc1cc(Nc2ccc(N3CCC(C)CC3)cc2)n2ncnc2n1     0.0\n",
       "\n",
       "[134422 rows x 2 columns]"
      ]
     },
     "metadata": {},
     "output_type": "display_data"
    }
   ],
   "source": [
    "raw_data = pd.read_csv('new_training_smiles.csv')\n",
    "raw_data.drop('Unnamed: 0', axis=1, inplace=True)\n",
    "display(raw_data)"
   ]
  },
  {
   "cell_type": "markdown",
   "metadata": {},
   "source": [
    "## Transform data (extract features)"
   ]
  },
  {
   "cell_type": "code",
   "execution_count": 4,
   "metadata": {},
   "outputs": [
    {
     "data": {
      "text/html": [
       "<div>\n",
       "<style scoped>\n",
       "    .dataframe tbody tr th:only-of-type {\n",
       "        vertical-align: middle;\n",
       "    }\n",
       "\n",
       "    .dataframe tbody tr th {\n",
       "        vertical-align: top;\n",
       "    }\n",
       "\n",
       "    .dataframe thead th {\n",
       "        text-align: right;\n",
       "    }\n",
       "</style>\n",
       "<table border=\"1\" class=\"dataframe\">\n",
       "  <thead>\n",
       "    <tr style=\"text-align: right;\">\n",
       "      <th></th>\n",
       "      <th>x1</th>\n",
       "      <th>x2</th>\n",
       "      <th>x3</th>\n",
       "      <th>x4</th>\n",
       "      <th>x5</th>\n",
       "      <th>x6</th>\n",
       "      <th>x7</th>\n",
       "      <th>x8</th>\n",
       "      <th>x9</th>\n",
       "      <th>x10</th>\n",
       "    </tr>\n",
       "  </thead>\n",
       "  <tbody>\n",
       "    <tr>\n",
       "      <th>0</th>\n",
       "      <td>25</td>\n",
       "      <td>338.199428</td>\n",
       "      <td>0</td>\n",
       "      <td>25</td>\n",
       "      <td>5.09352</td>\n",
       "      <td>338.451</td>\n",
       "      <td>5</td>\n",
       "      <td>12</td>\n",
       "      <td>0.480000</td>\n",
       "      <td>5671210215184166703700378702203336722</td>\n",
       "    </tr>\n",
       "    <tr>\n",
       "      <th>1</th>\n",
       "      <td>25</td>\n",
       "      <td>339.219829</td>\n",
       "      <td>0</td>\n",
       "      <td>25</td>\n",
       "      <td>4.87122</td>\n",
       "      <td>339.479</td>\n",
       "      <td>8</td>\n",
       "      <td>12</td>\n",
       "      <td>0.480000</td>\n",
       "      <td>8328916130681602758361976505456021571</td>\n",
       "    </tr>\n",
       "    <tr>\n",
       "      <th>2</th>\n",
       "      <td>17</td>\n",
       "      <td>233.116427</td>\n",
       "      <td>0</td>\n",
       "      <td>17</td>\n",
       "      <td>0.10320</td>\n",
       "      <td>233.271</td>\n",
       "      <td>3</td>\n",
       "      <td>6</td>\n",
       "      <td>0.352941</td>\n",
       "      <td>427147556156468491310640550472079366</td>\n",
       "    </tr>\n",
       "    <tr>\n",
       "      <th>3</th>\n",
       "      <td>25</td>\n",
       "      <td>333.111341</td>\n",
       "      <td>0</td>\n",
       "      <td>25</td>\n",
       "      <td>3.87940</td>\n",
       "      <td>333.347</td>\n",
       "      <td>4</td>\n",
       "      <td>20</td>\n",
       "      <td>0.800000</td>\n",
       "      <td>523695094110335032410745669696142338</td>\n",
       "    </tr>\n",
       "    <tr>\n",
       "      <th>4</th>\n",
       "      <td>16</td>\n",
       "      <td>226.084124</td>\n",
       "      <td>0</td>\n",
       "      <td>16</td>\n",
       "      <td>-0.46770</td>\n",
       "      <td>226.228</td>\n",
       "      <td>4</td>\n",
       "      <td>7</td>\n",
       "      <td>0.437500</td>\n",
       "      <td>21357387526891337304840442166116352</td>\n",
       "    </tr>\n",
       "    <tr>\n",
       "      <th>...</th>\n",
       "      <td>...</td>\n",
       "      <td>...</td>\n",
       "      <td>...</td>\n",
       "      <td>...</td>\n",
       "      <td>...</td>\n",
       "      <td>...</td>\n",
       "      <td>...</td>\n",
       "      <td>...</td>\n",
       "      <td>...</td>\n",
       "      <td>...</td>\n",
       "    </tr>\n",
       "    <tr>\n",
       "      <th>134417</th>\n",
       "      <td>26</td>\n",
       "      <td>489.026266</td>\n",
       "      <td>0</td>\n",
       "      <td>26</td>\n",
       "      <td>4.11800</td>\n",
       "      <td>491.224</td>\n",
       "      <td>8</td>\n",
       "      <td>6</td>\n",
       "      <td>0.230769</td>\n",
       "      <td>5774448780169953324456184779900983298</td>\n",
       "    </tr>\n",
       "    <tr>\n",
       "      <th>134418</th>\n",
       "      <td>22</td>\n",
       "      <td>302.115424</td>\n",
       "      <td>0</td>\n",
       "      <td>22</td>\n",
       "      <td>3.24002</td>\n",
       "      <td>302.326</td>\n",
       "      <td>5</td>\n",
       "      <td>12</td>\n",
       "      <td>0.545455</td>\n",
       "      <td>1682720011216148433928110003258920962</td>\n",
       "    </tr>\n",
       "    <tr>\n",
       "      <th>134419</th>\n",
       "      <td>23</td>\n",
       "      <td>349.007864</td>\n",
       "      <td>0</td>\n",
       "      <td>23</td>\n",
       "      <td>2.59630</td>\n",
       "      <td>349.389</td>\n",
       "      <td>3</td>\n",
       "      <td>15</td>\n",
       "      <td>0.652174</td>\n",
       "      <td>3048346208439277882278404635312115722</td>\n",
       "    </tr>\n",
       "    <tr>\n",
       "      <th>134420</th>\n",
       "      <td>19</td>\n",
       "      <td>263.115758</td>\n",
       "      <td>0</td>\n",
       "      <td>19</td>\n",
       "      <td>2.25490</td>\n",
       "      <td>263.293</td>\n",
       "      <td>3</td>\n",
       "      <td>6</td>\n",
       "      <td>0.315789</td>\n",
       "      <td>5743091227781309622800876834866108448</td>\n",
       "    </tr>\n",
       "    <tr>\n",
       "      <th>134421</th>\n",
       "      <td>24</td>\n",
       "      <td>322.190595</td>\n",
       "      <td>0</td>\n",
       "      <td>24</td>\n",
       "      <td>3.41262</td>\n",
       "      <td>322.416</td>\n",
       "      <td>3</td>\n",
       "      <td>15</td>\n",
       "      <td>0.625000</td>\n",
       "      <td>4354177384070705471938392804825245698</td>\n",
       "    </tr>\n",
       "  </tbody>\n",
       "</table>\n",
       "<p>134422 rows × 10 columns</p>\n",
       "</div>"
      ],
      "text/plain": [
       "        x1          x2  x3  x4       x5       x6  x7  x8        x9  \\\n",
       "0       25  338.199428   0  25  5.09352  338.451   5  12  0.480000   \n",
       "1       25  339.219829   0  25  4.87122  339.479   8  12  0.480000   \n",
       "2       17  233.116427   0  17  0.10320  233.271   3   6  0.352941   \n",
       "3       25  333.111341   0  25  3.87940  333.347   4  20  0.800000   \n",
       "4       16  226.084124   0  16 -0.46770  226.228   4   7  0.437500   \n",
       "...     ..         ...  ..  ..      ...      ...  ..  ..       ...   \n",
       "134417  26  489.026266   0  26  4.11800  491.224   8   6  0.230769   \n",
       "134418  22  302.115424   0  22  3.24002  302.326   5  12  0.545455   \n",
       "134419  23  349.007864   0  23  2.59630  349.389   3  15  0.652174   \n",
       "134420  19  263.115758   0  19  2.25490  263.293   3   6  0.315789   \n",
       "134421  24  322.190595   0  24  3.41262  322.416   3  15  0.625000   \n",
       "\n",
       "                                          x10  \n",
       "0       5671210215184166703700378702203336722  \n",
       "1       8328916130681602758361976505456021571  \n",
       "2        427147556156468491310640550472079366  \n",
       "3        523695094110335032410745669696142338  \n",
       "4         21357387526891337304840442166116352  \n",
       "...                                       ...  \n",
       "134417  5774448780169953324456184779900983298  \n",
       "134418  1682720011216148433928110003258920962  \n",
       "134419  3048346208439277882278404635312115722  \n",
       "134420  5743091227781309622800876834866108448  \n",
       "134421  4354177384070705471938392804825245698  \n",
       "\n",
       "[134422 rows x 10 columns]"
      ]
     },
     "metadata": {},
     "output_type": "display_data"
    }
   ],
   "source": [
    "y = [int(label) for label in raw_data['ACTIVE'].values]\n",
    "raw_data.drop(['ACTIVE'], axis=1, inplace=True)\n",
    "X = extractFeatures(raw_data)\n",
    "display(X)"
   ]
  },
  {
   "cell_type": "markdown",
   "metadata": {},
   "source": [
    "## Investigate the correlation of the features"
   ]
  },
  {
   "cell_type": "code",
   "execution_count": 8,
   "metadata": {},
   "outputs": [
    {
     "data": {
      "text/html": [
       "<div>\n",
       "<style scoped>\n",
       "    .dataframe tbody tr th:only-of-type {\n",
       "        vertical-align: middle;\n",
       "    }\n",
       "\n",
       "    .dataframe tbody tr th {\n",
       "        vertical-align: top;\n",
       "    }\n",
       "\n",
       "    .dataframe thead th {\n",
       "        text-align: right;\n",
       "    }\n",
       "</style>\n",
       "<table border=\"1\" class=\"dataframe\">\n",
       "  <thead>\n",
       "    <tr style=\"text-align: right;\">\n",
       "      <th></th>\n",
       "      <th>x1</th>\n",
       "      <th>x2</th>\n",
       "      <th>x3</th>\n",
       "      <th>x4</th>\n",
       "      <th>x5</th>\n",
       "      <th>x6</th>\n",
       "      <th>x7</th>\n",
       "      <th>x8</th>\n",
       "      <th>x9</th>\n",
       "    </tr>\n",
       "  </thead>\n",
       "  <tbody>\n",
       "    <tr>\n",
       "      <th>x1</th>\n",
       "      <td>1.000000</td>\n",
       "      <td>0.962791</td>\n",
       "      <td>-0.031055</td>\n",
       "      <td>0.999994</td>\n",
       "      <td>0.349310</td>\n",
       "      <td>0.962062</td>\n",
       "      <td>0.597099</td>\n",
       "      <td>0.505000</td>\n",
       "      <td>-0.003441</td>\n",
       "    </tr>\n",
       "    <tr>\n",
       "      <th>x2</th>\n",
       "      <td>0.962791</td>\n",
       "      <td>1.000000</td>\n",
       "      <td>-0.024988</td>\n",
       "      <td>0.962796</td>\n",
       "      <td>0.343355</td>\n",
       "      <td>0.999993</td>\n",
       "      <td>0.602143</td>\n",
       "      <td>0.448709</td>\n",
       "      <td>-0.043969</td>\n",
       "    </tr>\n",
       "    <tr>\n",
       "      <th>x3</th>\n",
       "      <td>-0.031055</td>\n",
       "      <td>-0.024988</td>\n",
       "      <td>1.000000</td>\n",
       "      <td>-0.031052</td>\n",
       "      <td>-0.119249</td>\n",
       "      <td>-0.025097</td>\n",
       "      <td>0.094073</td>\n",
       "      <td>-0.150762</td>\n",
       "      <td>-0.154091</td>\n",
       "    </tr>\n",
       "    <tr>\n",
       "      <th>x4</th>\n",
       "      <td>0.999994</td>\n",
       "      <td>0.962796</td>\n",
       "      <td>-0.031052</td>\n",
       "      <td>1.000000</td>\n",
       "      <td>0.349288</td>\n",
       "      <td>0.962067</td>\n",
       "      <td>0.597111</td>\n",
       "      <td>0.504998</td>\n",
       "      <td>-0.003447</td>\n",
       "    </tr>\n",
       "    <tr>\n",
       "      <th>x5</th>\n",
       "      <td>0.349310</td>\n",
       "      <td>0.343355</td>\n",
       "      <td>-0.119249</td>\n",
       "      <td>0.349288</td>\n",
       "      <td>1.000000</td>\n",
       "      <td>0.344040</td>\n",
       "      <td>0.138009</td>\n",
       "      <td>0.514625</td>\n",
       "      <td>0.368209</td>\n",
       "    </tr>\n",
       "    <tr>\n",
       "      <th>x6</th>\n",
       "      <td>0.962062</td>\n",
       "      <td>0.999993</td>\n",
       "      <td>-0.025097</td>\n",
       "      <td>0.962067</td>\n",
       "      <td>0.344040</td>\n",
       "      <td>1.000000</td>\n",
       "      <td>0.601604</td>\n",
       "      <td>0.448572</td>\n",
       "      <td>-0.043692</td>\n",
       "    </tr>\n",
       "    <tr>\n",
       "      <th>x7</th>\n",
       "      <td>0.597099</td>\n",
       "      <td>0.602143</td>\n",
       "      <td>0.094073</td>\n",
       "      <td>0.597111</td>\n",
       "      <td>0.138009</td>\n",
       "      <td>0.601604</td>\n",
       "      <td>1.000000</td>\n",
       "      <td>0.174146</td>\n",
       "      <td>-0.150550</td>\n",
       "    </tr>\n",
       "    <tr>\n",
       "      <th>x8</th>\n",
       "      <td>0.505000</td>\n",
       "      <td>0.448709</td>\n",
       "      <td>-0.150762</td>\n",
       "      <td>0.504998</td>\n",
       "      <td>0.514625</td>\n",
       "      <td>0.448572</td>\n",
       "      <td>0.174146</td>\n",
       "      <td>1.000000</td>\n",
       "      <td>0.827332</td>\n",
       "    </tr>\n",
       "    <tr>\n",
       "      <th>x9</th>\n",
       "      <td>-0.003441</td>\n",
       "      <td>-0.043969</td>\n",
       "      <td>-0.154091</td>\n",
       "      <td>-0.003447</td>\n",
       "      <td>0.368209</td>\n",
       "      <td>-0.043692</td>\n",
       "      <td>-0.150550</td>\n",
       "      <td>0.827332</td>\n",
       "      <td>1.000000</td>\n",
       "    </tr>\n",
       "  </tbody>\n",
       "</table>\n",
       "</div>"
      ],
      "text/plain": [
       "          x1        x2        x3        x4        x5        x6        x7  \\\n",
       "x1  1.000000  0.962791 -0.031055  0.999994  0.349310  0.962062  0.597099   \n",
       "x2  0.962791  1.000000 -0.024988  0.962796  0.343355  0.999993  0.602143   \n",
       "x3 -0.031055 -0.024988  1.000000 -0.031052 -0.119249 -0.025097  0.094073   \n",
       "x4  0.999994  0.962796 -0.031052  1.000000  0.349288  0.962067  0.597111   \n",
       "x5  0.349310  0.343355 -0.119249  0.349288  1.000000  0.344040  0.138009   \n",
       "x6  0.962062  0.999993 -0.025097  0.962067  0.344040  1.000000  0.601604   \n",
       "x7  0.597099  0.602143  0.094073  0.597111  0.138009  0.601604  1.000000   \n",
       "x8  0.505000  0.448709 -0.150762  0.504998  0.514625  0.448572  0.174146   \n",
       "x9 -0.003441 -0.043969 -0.154091 -0.003447  0.368209 -0.043692 -0.150550   \n",
       "\n",
       "          x8        x9  \n",
       "x1  0.505000 -0.003441  \n",
       "x2  0.448709 -0.043969  \n",
       "x3 -0.150762 -0.154091  \n",
       "x4  0.504998 -0.003447  \n",
       "x5  0.514625  0.368209  \n",
       "x6  0.448572 -0.043692  \n",
       "x7  0.174146 -0.150550  \n",
       "x8  1.000000  0.827332  \n",
       "x9  0.827332  1.000000  "
      ]
     },
     "metadata": {},
     "output_type": "display_data"
    },
    {
     "data": {
      "image/png": "[encoded data removed]",
      "text/plain": [
       "<Figure size 288x288 with 1 Axes>"
      ]
     },
     "metadata": {
      "needs_background": "light"
     },
     "output_type": "display_data"
    }
   ],
   "source": [
    "display(X.corr())\n",
    "plt.matshow(X.corr())\n",
    "plt.show()"
   ]
  },
  {
   "cell_type": "markdown",
   "metadata": {},
   "source": [
    "## Conclusions of investigation of correlation of features\n",
    "x1 and x4 are extremely correlated <br />\n",
    "x2 and x6 are extremely correlated <br />\n",
    "x1 and x2, x6 are highly correlated <br />\n",
    "**Conclusion: Drop x1 and x2**"
   ]
  },
  {
   "cell_type": "code",
   "execution_count": 9,
   "metadata": {},
   "outputs": [],
   "source": [
    "X.drop(['x1', 'x2'], axis=1, inplace=True)"
   ]
  },
  {
   "cell_type": "code",
   "execution_count": 10,
   "metadata": {},
   "outputs": [
    {
     "data": {
      "text/html": [
       "<div>\n",
       "<style scoped>\n",
       "    .dataframe tbody tr th:only-of-type {\n",
       "        vertical-align: middle;\n",
       "    }\n",
       "\n",
       "    .dataframe tbody tr th {\n",
       "        vertical-align: top;\n",
       "    }\n",
       "\n",
       "    .dataframe thead th {\n",
       "        text-align: right;\n",
       "    }\n",
       "</style>\n",
       "<table border=\"1\" class=\"dataframe\">\n",
       "  <thead>\n",
       "    <tr style=\"text-align: right;\">\n",
       "      <th></th>\n",
       "      <th>x3</th>\n",
       "      <th>x4</th>\n",
       "      <th>x5</th>\n",
       "      <th>x6</th>\n",
       "      <th>x7</th>\n",
       "      <th>x8</th>\n",
       "      <th>x9</th>\n",
       "      <th>x10</th>\n",
       "    </tr>\n",
       "  </thead>\n",
       "  <tbody>\n",
       "    <tr>\n",
       "      <th>0</th>\n",
       "      <td>0</td>\n",
       "      <td>25</td>\n",
       "      <td>5.09352</td>\n",
       "      <td>338.451</td>\n",
       "      <td>5</td>\n",
       "      <td>12</td>\n",
       "      <td>0.480000</td>\n",
       "      <td>5671210215184166703700378702203336722</td>\n",
       "    </tr>\n",
       "    <tr>\n",
       "      <th>1</th>\n",
       "      <td>0</td>\n",
       "      <td>25</td>\n",
       "      <td>4.87122</td>\n",
       "      <td>339.479</td>\n",
       "      <td>8</td>\n",
       "      <td>12</td>\n",
       "      <td>0.480000</td>\n",
       "      <td>8328916130681602758361976505456021571</td>\n",
       "    </tr>\n",
       "    <tr>\n",
       "      <th>2</th>\n",
       "      <td>0</td>\n",
       "      <td>17</td>\n",
       "      <td>0.10320</td>\n",
       "      <td>233.271</td>\n",
       "      <td>3</td>\n",
       "      <td>6</td>\n",
       "      <td>0.352941</td>\n",
       "      <td>427147556156468491310640550472079366</td>\n",
       "    </tr>\n",
       "    <tr>\n",
       "      <th>3</th>\n",
       "      <td>0</td>\n",
       "      <td>25</td>\n",
       "      <td>3.87940</td>\n",
       "      <td>333.347</td>\n",
       "      <td>4</td>\n",
       "      <td>20</td>\n",
       "      <td>0.800000</td>\n",
       "      <td>523695094110335032410745669696142338</td>\n",
       "    </tr>\n",
       "    <tr>\n",
       "      <th>4</th>\n",
       "      <td>0</td>\n",
       "      <td>16</td>\n",
       "      <td>-0.46770</td>\n",
       "      <td>226.228</td>\n",
       "      <td>4</td>\n",
       "      <td>7</td>\n",
       "      <td>0.437500</td>\n",
       "      <td>21357387526891337304840442166116352</td>\n",
       "    </tr>\n",
       "    <tr>\n",
       "      <th>...</th>\n",
       "      <td>...</td>\n",
       "      <td>...</td>\n",
       "      <td>...</td>\n",
       "      <td>...</td>\n",
       "      <td>...</td>\n",
       "      <td>...</td>\n",
       "      <td>...</td>\n",
       "      <td>...</td>\n",
       "    </tr>\n",
       "    <tr>\n",
       "      <th>134417</th>\n",
       "      <td>0</td>\n",
       "      <td>26</td>\n",
       "      <td>4.11800</td>\n",
       "      <td>491.224</td>\n",
       "      <td>8</td>\n",
       "      <td>6</td>\n",
       "      <td>0.230769</td>\n",
       "      <td>5774448780169953324456184779900983298</td>\n",
       "    </tr>\n",
       "    <tr>\n",
       "      <th>134418</th>\n",
       "      <td>0</td>\n",
       "      <td>22</td>\n",
       "      <td>3.24002</td>\n",
       "      <td>302.326</td>\n",
       "      <td>5</td>\n",
       "      <td>12</td>\n",
       "      <td>0.545455</td>\n",
       "      <td>1682720011216148433928110003258920962</td>\n",
       "    </tr>\n",
       "    <tr>\n",
       "      <th>134419</th>\n",
       "      <td>0</td>\n",
       "      <td>23</td>\n",
       "      <td>2.59630</td>\n",
       "      <td>349.389</td>\n",
       "      <td>3</td>\n",
       "      <td>15</td>\n",
       "      <td>0.652174</td>\n",
       "      <td>3048346208439277882278404635312115722</td>\n",
       "    </tr>\n",
       "    <tr>\n",
       "      <th>134420</th>\n",
       "      <td>0</td>\n",
       "      <td>19</td>\n",
       "      <td>2.25490</td>\n",
       "      <td>263.293</td>\n",
       "      <td>3</td>\n",
       "      <td>6</td>\n",
       "      <td>0.315789</td>\n",
       "      <td>5743091227781309622800876834866108448</td>\n",
       "    </tr>\n",
       "    <tr>\n",
       "      <th>134421</th>\n",
       "      <td>0</td>\n",
       "      <td>24</td>\n",
       "      <td>3.41262</td>\n",
       "      <td>322.416</td>\n",
       "      <td>3</td>\n",
       "      <td>15</td>\n",
       "      <td>0.625000</td>\n",
       "      <td>4354177384070705471938392804825245698</td>\n",
       "    </tr>\n",
       "  </tbody>\n",
       "</table>\n",
       "<p>134422 rows × 8 columns</p>\n",
       "</div>"
      ],
      "text/plain": [
       "        x3  x4       x5       x6  x7  x8        x9  \\\n",
       "0        0  25  5.09352  338.451   5  12  0.480000   \n",
       "1        0  25  4.87122  339.479   8  12  0.480000   \n",
       "2        0  17  0.10320  233.271   3   6  0.352941   \n",
       "3        0  25  3.87940  333.347   4  20  0.800000   \n",
       "4        0  16 -0.46770  226.228   4   7  0.437500   \n",
       "...     ..  ..      ...      ...  ..  ..       ...   \n",
       "134417   0  26  4.11800  491.224   8   6  0.230769   \n",
       "134418   0  22  3.24002  302.326   5  12  0.545455   \n",
       "134419   0  23  2.59630  349.389   3  15  0.652174   \n",
       "134420   0  19  2.25490  263.293   3   6  0.315789   \n",
       "134421   0  24  3.41262  322.416   3  15  0.625000   \n",
       "\n",
       "                                          x10  \n",
       "0       5671210215184166703700378702203336722  \n",
       "1       8328916130681602758361976505456021571  \n",
       "2        427147556156468491310640550472079366  \n",
       "3        523695094110335032410745669696142338  \n",
       "4         21357387526891337304840442166116352  \n",
       "...                                       ...  \n",
       "134417  5774448780169953324456184779900983298  \n",
       "134418  1682720011216148433928110003258920962  \n",
       "134419  3048346208439277882278404635312115722  \n",
       "134420  5743091227781309622800876834866108448  \n",
       "134421  4354177384070705471938392804825245698  \n",
       "\n",
       "[134422 rows x 8 columns]"
      ]
     },
     "metadata": {},
     "output_type": "display_data"
    },
    {
     "data": {
      "text/html": [
       "<div>\n",
       "<style scoped>\n",
       "    .dataframe tbody tr th:only-of-type {\n",
       "        vertical-align: middle;\n",
       "    }\n",
       "\n",
       "    .dataframe tbody tr th {\n",
       "        vertical-align: top;\n",
       "    }\n",
       "\n",
       "    .dataframe thead th {\n",
       "        text-align: right;\n",
       "    }\n",
       "</style>\n",
       "<table border=\"1\" class=\"dataframe\">\n",
       "  <thead>\n",
       "    <tr style=\"text-align: right;\">\n",
       "      <th></th>\n",
       "      <th>x3</th>\n",
       "      <th>x4</th>\n",
       "      <th>x5</th>\n",
       "      <th>x6</th>\n",
       "      <th>x7</th>\n",
       "      <th>x8</th>\n",
       "      <th>x9</th>\n",
       "    </tr>\n",
       "  </thead>\n",
       "  <tbody>\n",
       "    <tr>\n",
       "      <th>x3</th>\n",
       "      <td>1.000000</td>\n",
       "      <td>-0.031052</td>\n",
       "      <td>-0.119249</td>\n",
       "      <td>-0.025097</td>\n",
       "      <td>0.094073</td>\n",
       "      <td>-0.150762</td>\n",
       "      <td>-0.154091</td>\n",
       "    </tr>\n",
       "    <tr>\n",
       "      <th>x4</th>\n",
       "      <td>-0.031052</td>\n",
       "      <td>1.000000</td>\n",
       "      <td>0.349288</td>\n",
       "      <td>0.962067</td>\n",
       "      <td>0.597111</td>\n",
       "      <td>0.504998</td>\n",
       "      <td>-0.003447</td>\n",
       "    </tr>\n",
       "    <tr>\n",
       "      <th>x5</th>\n",
       "      <td>-0.119249</td>\n",
       "      <td>0.349288</td>\n",
       "      <td>1.000000</td>\n",
       "      <td>0.344040</td>\n",
       "      <td>0.138009</td>\n",
       "      <td>0.514625</td>\n",
       "      <td>0.368209</td>\n",
       "    </tr>\n",
       "    <tr>\n",
       "      <th>x6</th>\n",
       "      <td>-0.025097</td>\n",
       "      <td>0.962067</td>\n",
       "      <td>0.344040</td>\n",
       "      <td>1.000000</td>\n",
       "      <td>0.601604</td>\n",
       "      <td>0.448572</td>\n",
       "      <td>-0.043692</td>\n",
       "    </tr>\n",
       "    <tr>\n",
       "      <th>x7</th>\n",
       "      <td>0.094073</td>\n",
       "      <td>0.597111</td>\n",
       "      <td>0.138009</td>\n",
       "      <td>0.601604</td>\n",
       "      <td>1.000000</td>\n",
       "      <td>0.174146</td>\n",
       "      <td>-0.150550</td>\n",
       "    </tr>\n",
       "    <tr>\n",
       "      <th>x8</th>\n",
       "      <td>-0.150762</td>\n",
       "      <td>0.504998</td>\n",
       "      <td>0.514625</td>\n",
       "      <td>0.448572</td>\n",
       "      <td>0.174146</td>\n",
       "      <td>1.000000</td>\n",
       "      <td>0.827332</td>\n",
       "    </tr>\n",
       "    <tr>\n",
       "      <th>x9</th>\n",
       "      <td>-0.154091</td>\n",
       "      <td>-0.003447</td>\n",
       "      <td>0.368209</td>\n",
       "      <td>-0.043692</td>\n",
       "      <td>-0.150550</td>\n",
       "      <td>0.827332</td>\n",
       "      <td>1.000000</td>\n",
       "    </tr>\n",
       "  </tbody>\n",
       "</table>\n",
       "</div>"
      ],
      "text/plain": [
       "          x3        x4        x5        x6        x7        x8        x9\n",
       "x3  1.000000 -0.031052 -0.119249 -0.025097  0.094073 -0.150762 -0.154091\n",
       "x4 -0.031052  1.000000  0.349288  0.962067  0.597111  0.504998 -0.003447\n",
       "x5 -0.119249  0.349288  1.000000  0.344040  0.138009  0.514625  0.368209\n",
       "x6 -0.025097  0.962067  0.344040  1.000000  0.601604  0.448572 -0.043692\n",
       "x7  0.094073  0.597111  0.138009  0.601604  1.000000  0.174146 -0.150550\n",
       "x8 -0.150762  0.504998  0.514625  0.448572  0.174146  1.000000  0.827332\n",
       "x9 -0.154091 -0.003447  0.368209 -0.043692 -0.150550  0.827332  1.000000"
      ]
     },
     "metadata": {},
     "output_type": "display_data"
    },
    {
     "data": {
      "image/png": "[encoded data removed]",
      "text/plain": [
       "<Figure size 288x288 with 1 Axes>"
      ]
     },
     "metadata": {
      "needs_background": "light"
     },
     "output_type": "display_data"
    }
   ],
   "source": [
    "display(X)\n",
    "display(X.corr())\n",
    "plt.matshow(X.corr())\n",
    "plt.show()"
   ]
  },
  {
   "cell_type": "markdown",
   "metadata": {},
   "source": [
    "## Look at feature importance"
   ]
  },
  {
   "cell_type": "code",
   "execution_count": 11,
   "metadata": {},
   "outputs": [
    {
     "name": "stdout",
     "output_type": "stream",
     "text": [
      "[0.00079781 0.04005182 0.249196   0.24355287 0.06949247 0.03435421\n",
      " 0.05133029 0.31122454]\n"
     ]
    },
    {
     "data": {
      "image/png": "[encoded data removed]",
      "text/plain": [
       "<Figure size 432x288 with 1 Axes>"
      ]
     },
     "metadata": {
      "needs_background": "light"
     },
     "output_type": "display_data"
    }
   ],
   "source": [
    "model = ExtraTreesClassifier()\n",
    "model.fit(X,y)\n",
    "print(model.feature_importances_)\n",
    "feat_importances = pd.Series(model.feature_importances_, index=X.columns)\n",
    "feat_importances.nlargest(10).plot(kind='barh')\n",
    "plt.show()"
   ]
  },
  {
   "cell_type": "markdown",
   "metadata": {},
   "source": [
    "**Conclusions: drop x3**"
   ]
  },
  {
   "cell_type": "code",
   "execution_count": 17,
   "metadata": {},
   "outputs": [],
   "source": [
    "X.drop(['x3'], axis=1, inplace=True)"
   ]
  },
  {
   "cell_type": "markdown",
   "metadata": {},
   "source": [
    "## Test vanilla models"
   ]
  },
  {
   "cell_type": "markdown",
   "metadata": {},
   "source": [
    "### Bernoulli Naive Bayes classifier"
   ]
  },
  {
   "cell_type": "code",
   "execution_count": 30,
   "metadata": {},
   "outputs": [
    {
     "name": "stderr",
     "output_type": "stream",
     "text": [
      "C:\\Users\\CarbonXXX\\anaconda3\\lib\\site-packages\\sklearn\\preprocessing\\_discretization.py:220: UserWarning: Bins whose width are too small (i.e., <= 1e-8) in feature 0 are removed. Consider decreasing the number of bins.\n",
      "  warnings.warn('Bins whose width are too small (i.e., <= '\n",
      "C:\\Users\\CarbonXXX\\anaconda3\\lib\\site-packages\\sklearn\\preprocessing\\_discretization.py:220: UserWarning: Bins whose width are too small (i.e., <= 1e-8) in feature 1 are removed. Consider decreasing the number of bins.\n",
      "  warnings.warn('Bins whose width are too small (i.e., <= '\n",
      "C:\\Users\\CarbonXXX\\anaconda3\\lib\\site-packages\\sklearn\\preprocessing\\_discretization.py:220: UserWarning: Bins whose width are too small (i.e., <= 1e-8) in feature 2 are removed. Consider decreasing the number of bins.\n",
      "  warnings.warn('Bins whose width are too small (i.e., <= '\n",
      "C:\\Users\\CarbonXXX\\anaconda3\\lib\\site-packages\\sklearn\\preprocessing\\_discretization.py:220: UserWarning: Bins whose width are too small (i.e., <= 1e-8) in feature 3 are removed. Consider decreasing the number of bins.\n",
      "  warnings.warn('Bins whose width are too small (i.e., <= '\n",
      "C:\\Users\\CarbonXXX\\anaconda3\\lib\\site-packages\\sklearn\\preprocessing\\_discretization.py:220: UserWarning: Bins whose width are too small (i.e., <= 1e-8) in feature 6 are removed. Consider decreasing the number of bins.\n",
      "  warnings.warn('Bins whose width are too small (i.e., <= '\n",
      "C:\\Users\\CarbonXXX\\anaconda3\\lib\\site-packages\\sklearn\\preprocessing\\_discretization.py:220: UserWarning: Bins whose width are too small (i.e., <= 1e-8) in feature 7 are removed. Consider decreasing the number of bins.\n",
      "  warnings.warn('Bins whose width are too small (i.e., <= '\n"
     ]
    },
    {
     "name": "stdout",
     "output_type": "stream",
     "text": [
      "Discretization 32 bins\n",
      "[0.76380568 0.82088202 0.7989465  0.78358581 0.81253436 0.7756149\n",
      " 0.84482244 0.77536949 0.7964551  0.7496741 ] Average AUC: 0.7922, STD: 0.027\n"
     ]
    },
    {
     "data": {
      "image/png": "[encoded data removed]",
      "text/plain": [
       "<Figure size 432x288 with 1 Axes>"
      ]
     },
     "metadata": {
      "needs_background": "light"
     },
     "output_type": "display_data"
    },
    {
     "name": "stdout",
     "output_type": "stream",
     "text": [
      "AUC score on train/test split: 0.7938499014362153\n"
     ]
    }
   ],
   "source": [
    "# --- Discretization 32 bins is best! ---\n",
    "\n",
    "X_cop = X.copy()\n",
    "sc = StandardScaler()\n",
    "X_cop = sc.fit_transform(X_cop)\n",
    "print('StandardScaler')\n",
    "testModel(BernoulliNB(), X_cop, y)\n",
    "\n",
    "X_cop = X.copy()\n",
    "sc = MinMaxScaler()\n",
    "X_cop = sc.fit_transform(X_cop)\n",
    "print('MinMaxScaler')\n",
    "testModel(BernoulliNB(), X_cop, y)\n",
    "\n",
    "X_cop = X.copy()\n",
    "kbd = KBinsDiscretizer(n_bins=2, encode=\"onehot\")\n",
    "X_cop = kbd.fit_transform(X_cop)\n",
    "print('Discretization 2 bins')\n",
    "testModel(BernoulliNB(), X_cop, y)\n",
    "\n",
    "X_cop = X.copy()\n",
    "kbd = KBinsDiscretizer(n_bins=4, encode=\"onehot\")\n",
    "X_cop = kbd.fit_transform(X_cop)\n",
    "print('Discretization 4 bins')\n",
    "testModel(BernoulliNB(), X_cop, y)\n",
    "\n",
    "X_cop = X.copy()\n",
    "kbd = KBinsDiscretizer(n_bins=8, encode=\"onehot\")\n",
    "X_cop = kbd.fit_transform(X_cop)\n",
    "print('Discretization 8 bins')\n",
    "testModel(BernoulliNB(), X_cop, y)\n",
    "\n",
    "X_cop = X.copy()\n",
    "kbd = KBinsDiscretizer(n_bins=16, encode=\"onehot\")\n",
    "X_cop = kbd.fit_transform(X_cop)\n",
    "print('Discretization 16 bins')\n",
    "testModel(BernoulliNB(), X_cop, y)\n",
    "\n",
    "X_cop = X.copy()\n",
    "kbd = KBinsDiscretizer(n_bins=32, encode=\"onehot\")\n",
    "X_cop = kbd.fit_transform(X_cop)\n",
    "print('Discretization 32 bins')\n",
    "testModel(BernoulliNB(), X_cop, y)"
   ]
  },
  {
   "cell_type": "markdown",
   "metadata": {},
   "source": [
    "Bernoulli Naive Bayes classifier best preprocessing = Discretization 16 bins (Average AUC: 0.81, STD: 0.0274, AUC score on train/test split: 0.801)"
   ]
  },
  {
   "cell_type": "markdown",
   "metadata": {},
   "source": [
    "### Gaussian Naive Bayes classifier"
   ]
  },
  {
   "cell_type": "code",
   "execution_count": 27,
   "metadata": {},
   "outputs": [
    {
     "name": "stdout",
     "output_type": "stream",
     "text": [
      "StandardScaler\n",
      "[0.77389451 0.82817988 0.77176295 0.78054862 0.82401365 0.75405319\n",
      " 0.84315954 0.7778334  0.78492673 0.76080785] Average AUC: 0.7899, STD: 0.0291\n"
     ]
    },
    {
     "data": {
      "image/png": "[encoded data removed]",
      "text/plain": [
       "<Figure size 432x288 with 1 Axes>"
      ]
     },
     "metadata": {
      "needs_background": "light"
     },
     "output_type": "display_data"
    },
    {
     "name": "stdout",
     "output_type": "stream",
     "text": [
      "AUC score on train/test split: 0.7895525204167839\n"
     ]
    }
   ],
   "source": [
    "X_cop = X.copy()\n",
    "sc = StandardScaler()\n",
    "X_cop = sc.fit_transform(X_cop)\n",
    "print('StandardScaler')\n",
    "testModel(GaussianNB(), X_cop, y)\n",
    "\n",
    "# --- Standard and MinMax scaler yields the same result! ---\n",
    "\n",
    "# X_cop = X.copy()\n",
    "# sc = MinMaxScaler()\n",
    "# X_cop = sc.fit_transform(X_cop)\n",
    "# print('MinMaxScaler')\n",
    "# testModel(GaussianNB(), X_cop, y)\n",
    "\n",
    "# --- This crashes! ---\n",
    "\n",
    "# X_cop = X.copy()\n",
    "# kbd = KBinsDiscretizer(n_bins=4, encode=\"onehot\")\n",
    "# X_cop = kbd.fit_transform(X_cop)\n",
    "# print('Discretization')\n",
    "# testModel(GaussianNB(), X_cop, y)"
   ]
  },
  {
   "cell_type": "markdown",
   "metadata": {},
   "source": [
    "Gaussian Naive Bayes classifier best preprocessing = standard or minmax scaler (Average AUC: 0.7969, STD: 0.0246, AUC score on train/test split: 0.784)"
   ]
  },
  {
   "cell_type": "markdown",
   "metadata": {},
   "source": [
    "### Multinomial Naive Bayes classifier"
   ]
  },
  {
   "cell_type": "code",
   "execution_count": 25,
   "metadata": {},
   "outputs": [
    {
     "name": "stderr",
     "output_type": "stream",
     "text": [
      "C:\\Users\\CarbonXXX\\anaconda3\\lib\\site-packages\\sklearn\\preprocessing\\_discretization.py:220: UserWarning: Bins whose width are too small (i.e., <= 1e-8) in feature 0 are removed. Consider decreasing the number of bins.\n",
      "  warnings.warn('Bins whose width are too small (i.e., <= '\n",
      "C:\\Users\\CarbonXXX\\anaconda3\\lib\\site-packages\\sklearn\\preprocessing\\_discretization.py:220: UserWarning: Bins whose width are too small (i.e., <= 1e-8) in feature 1 are removed. Consider decreasing the number of bins.\n",
      "  warnings.warn('Bins whose width are too small (i.e., <= '\n",
      "C:\\Users\\CarbonXXX\\anaconda3\\lib\\site-packages\\sklearn\\preprocessing\\_discretization.py:220: UserWarning: Bins whose width are too small (i.e., <= 1e-8) in feature 2 are removed. Consider decreasing the number of bins.\n",
      "  warnings.warn('Bins whose width are too small (i.e., <= '\n",
      "C:\\Users\\CarbonXXX\\anaconda3\\lib\\site-packages\\sklearn\\preprocessing\\_discretization.py:220: UserWarning: Bins whose width are too small (i.e., <= 1e-8) in feature 3 are removed. Consider decreasing the number of bins.\n",
      "  warnings.warn('Bins whose width are too small (i.e., <= '\n",
      "C:\\Users\\CarbonXXX\\anaconda3\\lib\\site-packages\\sklearn\\preprocessing\\_discretization.py:220: UserWarning: Bins whose width are too small (i.e., <= 1e-8) in feature 6 are removed. Consider decreasing the number of bins.\n",
      "  warnings.warn('Bins whose width are too small (i.e., <= '\n",
      "C:\\Users\\CarbonXXX\\anaconda3\\lib\\site-packages\\sklearn\\preprocessing\\_discretization.py:220: UserWarning: Bins whose width are too small (i.e., <= 1e-8) in feature 7 are removed. Consider decreasing the number of bins.\n",
      "  warnings.warn('Bins whose width are too small (i.e., <= '\n"
     ]
    },
    {
     "name": "stdout",
     "output_type": "stream",
     "text": [
      "Discretization 32 bins\n",
      "[0.76380568 0.82088202 0.7989465  0.78358581 0.81253436 0.7756149\n",
      " 0.84482244 0.77536949 0.7964551  0.7496741 ] Average AUC: 0.7922, STD: 0.027\n"
     ]
    },
    {
     "data": {
      "image/png": "[encoded data removed]",
      "text/plain": [
       "<Figure size 432x288 with 1 Axes>"
      ]
     },
     "metadata": {
      "needs_background": "light"
     },
     "output_type": "display_data"
    },
    {
     "name": "stdout",
     "output_type": "stream",
     "text": [
      "AUC score on train/test split: 0.7938499014362153\n"
     ]
    }
   ],
   "source": [
    "# --- This crashes! ---\n",
    "\n",
    "# X_cop = X.copy()\n",
    "# sc = StandardScaler()\n",
    "# X_cop = sc.fit_transform(X_cop)\n",
    "# print('StandardScaler')\n",
    "# testModel(MultinomialNB(), X_cop, y)\n",
    "\n",
    "# --- Discretization 32 bins is best! ---\n",
    "\n",
    "X_cop = X.copy()\n",
    "sc = MinMaxScaler()\n",
    "X_cop = sc.fit_transform(X_cop)\n",
    "print('MinMaxScaler')\n",
    "testModel(MultinomialNB(), X_cop, y)\n",
    "\n",
    "X_cop = X.copy()\n",
    "kbd = KBinsDiscretizer(n_bins=2, encode=\"onehot\")\n",
    "X_cop = kbd.fit_transform(X_cop)\n",
    "print('Discretization 2 bins')\n",
    "testModel(MultinomialNB(), X_cop, y)\n",
    "\n",
    "X_cop = X.copy()\n",
    "kbd = KBinsDiscretizer(n_bins=4, encode=\"onehot\")\n",
    "X_cop = kbd.fit_transform(X_cop)\n",
    "print('Discretization 4 bins')\n",
    "testModel(MultinomialNB(), X_cop, y)\n",
    "\n",
    "X_cop = X.copy()\n",
    "kbd = KBinsDiscretizer(n_bins=8, encode=\"onehot\")\n",
    "X_cop = kbd.fit_transform(X_cop)\n",
    "print('Discretization 8 bins')\n",
    "testModel(MultinomialNB(), X_cop, y)\n",
    "\n",
    "X_cop = X.copy()\n",
    "kbd = KBinsDiscretizer(n_bins=16, encode=\"onehot\")\n",
    "X_cop = kbd.fit_transform(X_cop)\n",
    "print('Discretization 16 bins')\n",
    "testModel(MultinomialNB(), X_cop, y)\n",
    "\n",
    "X_cop = X.copy()\n",
    "kbd = KBinsDiscretizer(n_bins=32, encode=\"onehot\")\n",
    "X_cop = kbd.fit_transform(X_cop)\n",
    "print('Discretization 32 bins')\n",
    "testModel(MultinomialNB(), X_cop, y)"
   ]
  },
  {
   "cell_type": "markdown",
   "metadata": {},
   "source": [
    "Multinomial Naive Bayes classifier best preprocessing = Discretization 16 bins (Average AUC: 0.81, STD: 0.0274, AUC score on train/test split: 0.801)"
   ]
  },
  {
   "cell_type": "markdown",
   "metadata": {},
   "source": [
    "### Decision Tree classifier"
   ]
  },
  {
   "cell_type": "code",
   "execution_count": 23,
   "metadata": {},
   "outputs": [
    {
     "name": "stdout",
     "output_type": "stream",
     "text": [
      "[0.51117921 0.52430197 0.52437607 0.52459988 0.53775778 0.537425\n",
      " 0.55102758 0.53817105 0.53783533 0.49873172] Average AUC: 0.5285, STD: 0.0145\n"
     ]
    },
    {
     "data": {
      "image/png": "[encoded data removed]",
      "text/plain": [
       "<Figure size 432x288 with 1 Axes>"
      ]
     },
     "metadata": {
      "needs_background": "light"
     },
     "output_type": "display_data"
    },
    {
     "name": "stdout",
     "output_type": "stream",
     "text": [
      "AUC score on train/test split: 0.5410064770487187\n"
     ]
    }
   ],
   "source": [
    "# TODO: Investigate if we need to change data to fit model\n",
    "testModel(DecisionTreeClassifier(), X, y)"
   ]
  },
  {
   "cell_type": "markdown",
   "metadata": {},
   "source": [
    "### Random Forest classifier"
   ]
  },
  {
   "cell_type": "code",
   "execution_count": 22,
   "metadata": {},
   "outputs": [
    {
     "name": "stdout",
     "output_type": "stream",
     "text": [
      "[0.66570733 0.76459859 0.72718866 0.69450989 0.77480308 0.63178902\n",
      " 0.78888666 0.81545866 0.74698146 0.71408181] Average AUC: 0.7324, STD: 0.0543\n"
     ]
    },
    {
     "data": {
      "image/png": "[encoded data removed]",
      "text/plain": [
       "<Figure size 432x288 with 1 Axes>"
      ]
     },
     "metadata": {
      "needs_background": "light"
     },
     "output_type": "display_data"
    },
    {
     "name": "stdout",
     "output_type": "stream",
     "text": [
      "AUC score on train/test split: 0.725254998591946\n"
     ]
    }
   ],
   "source": [
    "testModel(RandomForestClassifier(), X, y)"
   ]
  },
  {
   "cell_type": "markdown",
   "metadata": {},
   "source": [
    "### Multi-layer Perceptron classifier"
   ]
  },
  {
   "cell_type": "code",
   "execution_count": 21,
   "metadata": {},
   "outputs": [
    {
     "name": "stdout",
     "output_type": "stream",
     "text": [
      "StandardScaler\n",
      "[0.82440565 0.87276951 0.84464771 0.82770069 0.82884724 0.8226315\n",
      " 0.89480948 0.81935675 0.84496772 0.87320164] Average AUC: 0.8453, STD: 0.0249\n"
     ]
    },
    {
     "data": {
      "image/png": "[encoded data removed]",
      "text/plain": [
       "<Figure size 432x288 with 1 Axes>"
      ]
     },
     "metadata": {
      "needs_background": "light"
     },
     "output_type": "display_data"
    },
    {
     "name": "stdout",
     "output_type": "stream",
     "text": [
      "AUC score on train/test split: 0.824430019712757\n"
     ]
    }
   ],
   "source": [
    "X_cop = X.copy()\n",
    "sc = StandardScaler()\n",
    "X_cop = sc.fit_transform(X_cop)\n",
    "print('StandardScaler')\n",
    "testModel(MLPClassifier(), X_cop, y)\n",
    "\n",
    "# ---Not as good as StandardScaler!---\n",
    "\n",
    "X_cop = X.copy()\n",
    "sc = MinMaxScaler()\n",
    "X_cop = sc.fit_transform(X_cop)\n",
    "print('MinMaxScaler')\n",
    "testModel(MLPClassifier(), X_cop, y)\n",
    "\n",
    "X_cop = X.copy()\n",
    "kbd = KBinsDiscretizer(n_bins=2, encode=\"onehot\")\n",
    "X_cop = kbd.fit_transform(X_cop)\n",
    "print('Discretization 2 bins')\n",
    "testModel(MLPClassifier(), X_cop, y)\n",
    "\n",
    "X_cop = X.copy()\n",
    "kbd = KBinsDiscretizer(n_bins=4, encode=\"onehot\")\n",
    "X_cop = kbd.fit_transform(X_cop)\n",
    "print('Discretization 4 bins')\n",
    "testModel(MLPClassifier(), X_cop, y)\n",
    "\n",
    "X_cop = X.copy()\n",
    "kbd = KBinsDiscretizer(n_bins=8, encode=\"onehot\")\n",
    "X_cop = kbd.fit_transform(X_cop)\n",
    "print('Discretization 8 bins')\n",
    "testModel(MLPClassifier(), X_cop, y)\n",
    "\n",
    "X_cop = X.copy()\n",
    "kbd = KBinsDiscretizer(n_bins=16, encode=\"onehot\")\n",
    "X_cop = kbd.fit_transform(X_cop)\n",
    "print('Discretization 16 bins')\n",
    "testModel(MLPClassifier(), X_cop, y)\n",
    "\n",
    "X_cop = X.copy()\n",
    "kbd = KBinsDiscretizer(n_bins=32, encode=\"onehot\")\n",
    "X_cop = kbd.fit_transform(X_cop)\n",
    "print('Discretization 32 bins')\n",
    "testModel(MLPClassifier(), X_cop, y)"
   ]
  },
  {
   "cell_type": "markdown",
   "metadata": {},
   "source": [
    "## Conclusions of vanilla models:\n",
    "\n",
    "| Model      | Kfold AUC Score | Kfold std | Train/test AUC Score | Best Preprocessing |\n",
    "| ----------- | ----------- | ----------- | ----------- | ----------- |\n",
    "| Bernoulli Naive Bayes      | 0.7922       | 0.027       | 0.794       | Discretization 32 bins       |\n",
    "| Gaussian Naive Bayes   | 0.7899       | 0.0291      | 0.790       | Standard Scaler       |\n",
    "| Multinomial Naive Bayes      | 0.7922       | 0.027      | 0.794      | Discretization 32 bins       |\n",
    "| Decision Tree   | 0.5285       | 0.0145      | 0.541       | No Preprocessing       |\n",
    "| Random Forest   | 0.7324        | 0.0543       | 0.725       | No Preprocessing       |\n",
    "| Multi-layer Perceptron   | 0.8453        | 0.0249       | 0.824       | Standard Scaler      |\n",
    "\n",
    "We want to find the best parameters for the following models: Multi-layer Perceptron, Multinomial Naive Bayes and Random Forest"
   ]
  },
  {
   "cell_type": "markdown",
   "metadata": {},
   "source": [
    "## Find best parameters"
   ]
  },
  {
   "cell_type": "code",
   "execution_count": 31,
   "metadata": {},
   "outputs": [
    {
     "name": "stdout",
     "output_type": "stream",
     "text": [
      "[0.77756831 0.83318604 0.79389793 0.79189637 0.80920562 0.78641686\n",
      " 0.86448959 0.79466459 0.82552047 0.79272978] Average AUC: 0.807, STD: 0.0253\n"
     ]
    },
    {
     "data": {
      "image/png": "[encoded data removed]",
      "text/plain": [
       "<Figure size 432x288 with 1 Axes>"
      ]
     },
     "metadata": {
      "needs_background": "light"
     },
     "output_type": "display_data"
    },
    {
     "name": "stdout",
     "output_type": "stream",
     "text": [
      "AUC score on train/test split: 0.814136299633906\n"
     ]
    }
   ],
   "source": [
    "testModel(RandomForestClassifier(n_estimators=200, max_depth=4), X, y)"
   ]
  },
  {
   "cell_type": "code",
   "execution_count": 32,
   "metadata": {},
   "outputs": [
    {
     "name": "stdout",
     "output_type": "stream",
     "text": [
      "[0.81864388 0.88341023 0.85708508 0.82708618 0.8151573  0.83810214\n",
      " 0.89777403 0.84125909 0.84508356 0.85450141] Average AUC: 0.8478, STD: 0.0253\n"
     ]
    },
    {
     "data": {
      "image/png": "[encoded data removed]",
      "text/plain": [
       "<Figure size 432x288 with 1 Axes>"
      ]
     },
     "metadata": {
      "needs_background": "light"
     },
     "output_type": "display_data"
    },
    {
     "name": "stdout",
     "output_type": "stream",
     "text": [
      "AUC score on train/test split: 0.8034657842861166\n"
     ]
    }
   ],
   "source": [
    "params = {'activation': 'relu', 'alpha': 0.005, 'hidden_layer_sizes': (50, 100, 50), 'learning_rate': 'adaptive', 'solver': 'adam'}\n",
    "X_cop = X.copy()\n",
    "sc = StandardScaler()\n",
    "X_cop = sc.fit_transform(X_cop)\n",
    "testModel(MLPClassifier(**params), X_cop, y)"
   ]
  },
  {
   "cell_type": "markdown",
   "metadata": {},
   "source": [
    "### Multi-layer Perceptron classifier"
   ]
  },
  {
   "cell_type": "code",
   "execution_count": 7,
   "metadata": {},
   "outputs": [
    {
     "name": "stdout",
     "output_type": "stream",
     "text": [
      "Vanilla model\n",
      "[0.78535875 0.86121441 0.83580706 0.80930869 0.80497966 0.80955606\n",
      " 0.86793612 0.82188545 0.84688192 0.79037679] Average AUC: 0.8233, STD: 0.0272\n"
     ]
    },
    {
     "data": {
      "image/png": "[encoded data removed]",
      "text/plain": [
       "<Figure size 432x288 with 1 Axes>"
      ]
     },
     "metadata": {
      "needs_background": "light"
     },
     "output_type": "display_data"
    },
    {
     "name": "stdout",
     "output_type": "stream",
     "text": [
      "AUC score on train/test split: 0.8098763728527176\n"
     ]
    },
    {
     "name": "stderr",
     "output_type": "stream",
     "text": [
      "C:\\Users\\CarbonXXX\\anaconda3\\lib\\site-packages\\sklearn\\neural_network\\_multilayer_perceptron.py:614: ConvergenceWarning: Stochastic Optimizer: Maximum iterations (200) reached and the optimization hasn't converged yet.\n",
      "  warnings.warn(\n",
      "C:\\Users\\CarbonXXX\\anaconda3\\lib\\site-packages\\sklearn\\neural_network\\_multilayer_perceptron.py:614: ConvergenceWarning: Stochastic Optimizer: Maximum iterations (200) reached and the optimization hasn't converged yet.\n",
      "  warnings.warn(\n",
      "C:\\Users\\CarbonXXX\\anaconda3\\lib\\site-packages\\sklearn\\neural_network\\_multilayer_perceptron.py:614: ConvergenceWarning: Stochastic Optimizer: Maximum iterations (200) reached and the optimization hasn't converged yet.\n",
      "  warnings.warn(\n"
     ]
    },
    {
     "name": "stdout",
     "output_type": "stream",
     "text": [
      "Tuned model with params: {'activation': 'relu', 'alpha': 0.005, 'hidden_layer_sizes': (50, 100, 50), 'learning_rate': 'adaptive', 'solver': 'adam'}\n",
      "[0.79911852 0.8628844  0.84966192 0.81510822 0.80400587 0.79875803\n",
      " 0.85413231 0.83376329 0.85411268 0.80294178] Average AUC: 0.8274, STD: 0.0248\n"
     ]
    },
    {
     "data": {
      "image/png": "[encoded data removed]",
      "text/plain": [
       "<Figure size 432x288 with 1 Axes>"
      ]
     },
     "metadata": {
      "needs_background": "light"
     },
     "output_type": "display_data"
    },
    {
     "name": "stdout",
     "output_type": "stream",
     "text": [
      "AUC score on train/test split: 0.8226896648831314\n"
     ]
    }
   ],
   "source": [
    "params = {\n",
    "    'hidden_layer_sizes': [(50,50,50), (50,100,50), (100,)],\n",
    "    'activation': ['tanh', 'relu'],\n",
    "    'solver': ['sgd', 'adam'],\n",
    "    'alpha': [0.0001, 0.005],\n",
    "    'learning_rate': ['adaptive']\n",
    "}\n",
    "\n",
    "X_cop = X.copy()\n",
    "sc = StandardScaler()\n",
    "X_cop = sc.fit_transform(X_cop)\n",
    "tuneModel(MLPClassifier(), params, X_cop, y)"
   ]
  },
  {
   "cell_type": "markdown",
   "metadata": {},
   "source": [
    "Multi-layer Perceptron best params = {'activation': 'relu', 'alpha': 0.005, 'hidden_layer_sizes': (50, 100, 50), 'learning_rate': 'adaptive', 'solver': 'adam'}"
   ]
  },
  {
   "cell_type": "markdown",
   "metadata": {},
   "source": [
    "### Multinomial Naive Bayes classifier"
   ]
  },
  {
   "cell_type": "code",
   "execution_count": 63,
   "metadata": {},
   "outputs": [
    {
     "name": "stderr",
     "output_type": "stream",
     "text": [
      "C:\\Users\\CarbonXXX\\anaconda3\\lib\\site-packages\\sklearn\\preprocessing\\_discretization.py:220: UserWarning: Bins whose width are too small (i.e., <= 1e-8) in feature 0 are removed. Consider decreasing the number of bins.\n",
      "  warnings.warn('Bins whose width are too small (i.e., <= '\n",
      "C:\\Users\\CarbonXXX\\anaconda3\\lib\\site-packages\\sklearn\\preprocessing\\_discretization.py:220: UserWarning: Bins whose width are too small (i.e., <= 1e-8) in feature 1 are removed. Consider decreasing the number of bins.\n",
      "  warnings.warn('Bins whose width are too small (i.e., <= '\n",
      "C:\\Users\\CarbonXXX\\anaconda3\\lib\\site-packages\\sklearn\\preprocessing\\_discretization.py:220: UserWarning: Bins whose width are too small (i.e., <= 1e-8) in feature 4 are removed. Consider decreasing the number of bins.\n",
      "  warnings.warn('Bins whose width are too small (i.e., <= '\n",
      "C:\\Users\\CarbonXXX\\anaconda3\\lib\\site-packages\\sklearn\\preprocessing\\_discretization.py:220: UserWarning: Bins whose width are too small (i.e., <= 1e-8) in feature 5 are removed. Consider decreasing the number of bins.\n",
      "  warnings.warn('Bins whose width are too small (i.e., <= '\n"
     ]
    },
    {
     "name": "stdout",
     "output_type": "stream",
     "text": [
      "Vanilla model\n",
      "[0.77841479 0.82597522 0.79014218 0.80987706 0.82132003 0.81277093\n",
      " 0.85808144 0.78279166 0.8466532  0.77351812] Average AUC: 0.81, STD: 0.0274\n"
     ]
    },
    {
     "data": {
      "image/png": "[encoded data removed]",
      "text/plain": [
       "<Figure size 432x288 with 1 Axes>"
      ]
     },
     "metadata": {
      "needs_background": "light"
     },
     "output_type": "display_data"
    },
    {
     "name": "stdout",
     "output_type": "stream",
     "text": [
      "AUC score on train/test split: 0.8005304139678964\n",
      "Tuned model with params: {'alpha': 0.1}\n",
      "[0.77899441 0.82732001 0.79124554 0.81057206 0.82140052 0.81268847\n",
      " 0.85812464 0.78423664 0.84646669 0.77265427] Average AUC: 0.8104, STD: 0.0273\n"
     ]
    },
    {
     "data": {
      "image/png": "[encoded data removed]",
      "text/plain": [
       "<Figure size 432x288 with 1 Axes>"
      ]
     },
     "metadata": {
      "needs_background": "light"
     },
     "output_type": "display_data"
    },
    {
     "name": "stdout",
     "output_type": "stream",
     "text": [
      "AUC score on train/test split: 0.8000792734441002\n"
     ]
    }
   ],
   "source": [
    "params = {\n",
    "    'alpha': [0.1, 0.2, 0.3, 0.4, 0.5, 0.6, 0.7, 0.8, 0.9, 1.0, 1.1, 1.2, 1.3, 1.4, 1.5, 1.6, 1.7, 1.8, 1.9, 2.0]\n",
    "}\n",
    "\n",
    "X_cop = X.copy()\n",
    "kbd = KBinsDiscretizer(n_bins=16, encode=\"onehot\")\n",
    "X_cop = kbd.fit_transform(X_cop)\n",
    "tuneModel(MultinomialNB(), params, X_cop, y)"
   ]
  },
  {
   "cell_type": "markdown",
   "metadata": {},
   "source": [
    "Guassian Naive Bayes best params = default"
   ]
  },
  {
   "cell_type": "markdown",
   "metadata": {},
   "source": [
    "### Random Forest classifier"
   ]
  },
  {
   "cell_type": "code",
   "execution_count": null,
   "metadata": {},
   "outputs": [
    {
     "ename": "NameError",
     "evalue": "name 'tuneModel' is not defined",
     "output_type": "error",
     "traceback": [
      "\u001b[1;31m---------------------------------------------------------------------------\u001b[0m",
      "\u001b[1;31mNameError\u001b[0m                                 Traceback (most recent call last)",
      "\u001b[1;32mC:\\Users\\CARBON~1\\AppData\\Local\\Temp/ipykernel_20548/1922274726.py\u001b[0m in \u001b[0;36m<module>\u001b[1;34m\u001b[0m\n\u001b[0;32m      8\u001b[0m }\n\u001b[0;32m      9\u001b[0m \u001b[1;33m\u001b[0m\u001b[0m\n\u001b[1;32m---> 10\u001b[1;33m \u001b[0mtuneModel\u001b[0m\u001b[1;33m(\u001b[0m\u001b[0mRandomForestClassifier\u001b[0m\u001b[1;33m(\u001b[0m\u001b[1;33m)\u001b[0m\u001b[1;33m,\u001b[0m \u001b[0mparams\u001b[0m\u001b[1;33m,\u001b[0m \u001b[0mX\u001b[0m\u001b[1;33m,\u001b[0m \u001b[0my\u001b[0m\u001b[1;33m)\u001b[0m\u001b[1;33m\u001b[0m\u001b[1;33m\u001b[0m\u001b[0m\n\u001b[0m",
      "\u001b[1;31mNameError\u001b[0m: name 'tuneModel' is not defined"
     ]
    }
   ],
   "source": [
    "params = {\n",
    "    'n_estimators': [50, 100, 400],\n",
    "    'class_weight': ['balanced_subsample', None],\n",
    "    'oob_score': [True],\n",
    "    'min_samples_split': [2, 4, 6],\n",
    "    'max_depth': [4, 8, 16],\n",
    "    'ccp_alpha': [0.0, 0.05]\n",
    "}\n",
    "\n",
    "tuneModel(RandomForestClassifier(), params, X, y)"
   ]
  }
 ],
 "metadata": {
  "interpreter": {
   "hash": "cbc7116fd1935fa40f9698f53b22907d13b9a7fe4e533a2db6525c6ef8c86691"
  },
  "kernelspec": {
   "display_name": "Python 3.9.7 64-bit ('base': conda)",
   "language": "python",
   "name": "python3"
  },
  "language_info": {
   "codemirror_mode": {
    "name": "ipython",
    "version": 3
   },
   "file_extension": ".py",
   "mimetype": "text/x-python",
   "name": "python",
   "nbconvert_exporter": "python",
   "pygments_lexer": "ipython3",
   "version": "3.9.7"
  },
  "orig_nbformat": 4
 },
 "nbformat": 4,
 "nbformat_minor": 2
}

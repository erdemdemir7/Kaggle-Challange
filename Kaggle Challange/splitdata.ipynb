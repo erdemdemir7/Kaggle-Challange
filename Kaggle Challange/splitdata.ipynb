{
 "cells": [
  {
   "cell_type": "markdown",
   "metadata": {},
   "source": [
    "## Remove 10% of the data and store it in a secret box to calculate AUC_est later"
   ]
  },
  {
   "cell_type": "code",
   "execution_count": 119,
   "metadata": {},
   "outputs": [],
   "source": [
    "import pandas as pd\n",
    "import numpy as np\n",
    "import matplotlib.pyplot as plt\n",
    "\n",
    "raw_data = pd.read_csv('training_smiles.csv')\n",
    "raw_data.drop('INDEX', axis=1, inplace=True)\n",
    "\n",
    "indices_to_remove = np.random.choice(len(raw_data), int(0.1 * len(raw_data)), replace=False)\n",
    "auc_est_data = raw_data.iloc[indices_to_remove].copy()\n",
    "auc_est_data.reset_index(inplace=True)\n",
    "auc_est_data.drop('index', axis=1, inplace=True)\n",
    "\n",
    "raw_data.drop(indices_to_remove, axis=0, inplace=True)\n",
    "raw_data.reset_index(inplace=True)\n",
    "raw_data.drop('index', axis=1, inplace=True)\n",
    "\n",
    "# display(raw_data)\n",
    "# display(auc_est_data)"
   ]
  },
  {
   "cell_type": "markdown",
   "metadata": {},
   "source": [
    "## Investigate how many active compounds there are and how they're distributed throughout the two datasets\n",
    "\n",
    "Conclusions: the active compounds seems to be somewhat evenly distributed throughout the dataset - no need to manipulate the dataset further"
   ]
  },
  {
   "cell_type": "code",
   "execution_count": 122,
   "metadata": {},
   "outputs": [
    {
     "name": "stdout",
     "output_type": "stream",
     "text": [
      "Number of active compounds in the general dataset: 381/133709 (0.0028%)\n"
     ]
    },
    {
     "name": "stderr",
     "output_type": "stream",
     "text": [
      "C:\\Users\\CARBON~1\\AppData\\Local\\Temp/ipykernel_9596/3061722826.py:29: UserWarning: Matplotlib is currently using module://matplotlib_inline.backend_inline, which is a non-GUI backend, so cannot show the figure.\n",
      "  f1.show()\n",
      "C:\\Users\\CARBON~1\\AppData\\Local\\Temp/ipykernel_9596/3061722826.py:37: UserWarning: Matplotlib is currently using module://matplotlib_inline.backend_inline, which is a non-GUI backend, so cannot show the figure.\n",
      "  f2.show()\n"
     ]
    },
    {
     "name": "stdout",
     "output_type": "stream",
     "text": [
      "Number of active compounds in the AUC_est dataset: 41/14856 (0.0028%)\n"
     ]
    },
    {
     "data": {
      "image/png": "[encoded data removed]",
      "text/plain": [
       "<Figure size 432x288 with 1 Axes>"
      ]
     },
     "metadata": {
      "needs_background": "light"
     },
     "output_type": "display_data"
    },
    {
     "data": {
      "image/png": "[encoded data removed]",
      "text/plain": [
       "<Figure size 432x288 with 1 Axes>"
      ]
     },
     "metadata": {
      "needs_background": "light"
     },
     "output_type": "display_data"
    }
   ],
   "source": [
    "y = [int(label) for label in raw_data['ACTIVE'].values]\n",
    "y_auc_est = [int(label) for label in auc_est_data['ACTIVE'].values]\n",
    "\n",
    "# Check the data we're going to work with\n",
    "indices = [index for index in range(len(y)) if y[index] == 1]\n",
    "num_ones = len(indices)\n",
    "print('Number of active compounds in the general dataset: ' + str(len(indices)) + '/' + str(len(y)) + ' (' + str(round(num_ones/len(y) * 100, 2)) + '%)')\n",
    "f1 = plt.figure(1)\n",
    "plt.hist(indices, bins=50)\n",
    "f1.show()\n",
    "\n",
    "# Check the AUC_est data\n",
    "indices = [index for index in range(len(y_auc_est)) if y_auc_est[index] == 1]\n",
    "num_ones = len(indices)\n",
    "print('Number of active compounds in the AUC_est dataset: ' + str(len(indices)) + '/' + str(len(y_auc_est)) + ' (' + str(round(num_ones/len(y_auc_est) * 100, 2)) + '%)')\n",
    "f2 = plt.figure(2)\n",
    "plt.hist(indices, bins=10)\n",
    "f2.show()"
   ]
  },
  {
   "cell_type": "markdown",
   "metadata": {},
   "source": [
    "## Save the data (OBSERVE: Do not run the code below, we're happy with the split we have right now!!)"
   ]
  },
  {
   "cell_type": "code",
   "execution_count": 123,
   "metadata": {},
   "outputs": [],
   "source": [
    "# auc_est_data.to_csv('auc_est_training_smiles.csv')\n",
    "# raw_data.to_csv('new_training_smiles.csv')"
   ]
  }
 ],
 "metadata": {
  "interpreter": {
   "hash": "cbc7116fd1935fa40f9698f53b22907d13b9a7fe4e533a2db6525c6ef8c86691"
  },
  "kernelspec": {
   "display_name": "Python 3.9.7 64-bit ('base': conda)",
   "language": "python",
   "name": "python3"
  },
  "language_info": {
   "codemirror_mode": {
    "name": "ipython",
    "version": 3
   },
   "file_extension": ".py",
   "mimetype": "text/x-python",
   "name": "python",
   "nbconvert_exporter": "python",
   "pygments_lexer": "ipython3",
   "version": "3.9.7"
  },
  "orig_nbformat": 4
 },
 "nbformat": 4,
 "nbformat_minor": 2
}
